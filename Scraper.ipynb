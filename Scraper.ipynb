{
 "cells": [
  {
   "cell_type": "code",
   "execution_count": 1,
   "id": "21b5fc74",
   "metadata": {},
   "outputs": [],
   "source": [
    "#to succesfully run this script make sure all libraries are available in the system\n",
    "try:\n",
    "    from selenium import webdriver\n",
    "    from bs4 import BeautifulSoup\n",
    "    from dateutil.parser import parse\n",
    "    from datetime import date\n",
    "    import pandas as pd\n",
    "    from selenium.webdriver.common.action_chains import ActionChains\n",
    "except:\n",
    "    print('Required Python libraries not available')\n",
    "\n",
    "PATH = \"C:\\Program Files (x86)\\chromedriver.exe\" #Put here the location of chromedriver"
   ]
  },
  {
   "cell_type": "code",
   "execution_count": 2,
   "id": "c8226b43",
   "metadata": {},
   "outputs": [],
   "source": [
    "lastdate = parse('December 31, 2020').date()\n",
    "\n",
    "#Review must be newer than this date. "
   ]
  },
  {
   "cell_type": "code",
   "execution_count": 3,
   "id": "c2d1c492",
   "metadata": {},
   "outputs": [],
   "source": [
    "#creating a functions to find rating of the product\n",
    "def ratings(row):\n",
    "    ratinghtml = row.find(attrs={'class':'stars-container'}).findAll(attrs={'class':'elc-icon star star-small star-rated elc-icon-star-rating'})\n",
    "    t  = 0\n",
    "    for x in ratinghtml:\n",
    "        t = t + 1\n",
    "    return t"
   ]
  },
  {
   "cell_type": "code",
   "execution_count": 4,
   "id": "b677fd2f",
   "metadata": {},
   "outputs": [],
   "source": [
    "try:\n",
    "    driver = webdriver.Chrome(PATH)\n",
    "    driver.maximize_window()  \n",
    "except:\n",
    "    print(\"chromedriver not found. Please add chromedriver file location in the script and run it again\")"
   ]
  },
  {
   "cell_type": "code",
   "execution_count": 5,
   "id": "eec05982",
   "metadata": {},
   "outputs": [],
   "source": [
    "#put the product link here\n",
    "productLink = \"https://www.walmart.com/ip/Clorox-Disinfecting-Wipes-225-Count-Value-Pack-Crisp-Lemon-and-Fresh-Scent-3-Pack-75-Count-Each/14898365\"\n",
    "driver.get(productLink)"
   ]
  },
  {
   "cell_type": "code",
   "execution_count": 6,
   "id": "0c91cef6",
   "metadata": {},
   "outputs": [],
   "source": [
    "element = driver.find_element_by_class_name('ReviewsFooter-container')\n",
    "actions = ActionChains(driver)\n",
    "actions.move_to_element(element).perform()"
   ]
  },
  {
   "cell_type": "code",
   "execution_count": 7,
   "id": "6acd9a21",
   "metadata": {},
   "outputs": [],
   "source": [
    "#Clicking on See all reviews\n",
    "for c in driver.find_elements_by_css_selector('#customer-reviews > div.CustomerReviews-footer > div > div > div > a'):\n",
    "    c.click()"
   ]
  },
  {
   "cell_type": "code",
   "execution_count": 8,
   "id": "6a4498f4",
   "metadata": {},
   "outputs": [],
   "source": [
    "#Sorting reviews by newest to oldest\n",
    "for c in driver.find_elements_by_xpath('/html/body/div[1]/div/div/div/div[1]/div/div[5]/div/div[2]/div/div[2]/div/div[2]/select/option[3]'):\n",
    "    c.click()"
   ]
  },
  {
   "cell_type": "code",
   "execution_count": 9,
   "id": "10722f9e",
   "metadata": {},
   "outputs": [],
   "source": [
    "date = date.today()\n",
    "output = pd.DataFrame(columns =['Date', 'Name', 'Title','Description', 'Rating'])\n",
    "while date > lastdate:\n",
    "    soup = BeautifulSoup(driver.page_source)\n",
    "    table = soup.findAll('div' , attrs = {'class':'Grid-col customer-review-body'}) \n",
    "\n",
    "    for row in table:\n",
    "        daterow = parse(row.find(attrs = {'class':'review-date-submissionTime'}).text).date()\n",
    "        namerow = row.find(attrs = {'class':'review-footer-userNickname'}).text\n",
    "        try:\n",
    "            titlerow = row.find(attrs={'class':'review-title font-bold'}).text\n",
    "        except:\n",
    "            titlerow = 'No review title'\n",
    "        descriptionrow = row.find(attrs = {'class':'review-text'}).text\n",
    "        ratingrow = ratings(row)\n",
    "        dfrow =  pd.DataFrame({\"Date\":[daterow], \"Name\":[namerow], \"Title\":[titlerow], \"Description\":[descriptionrow], \"Rating\":[ratingrow]})\n",
    "        output = output.append(dfrow)\n",
    "\n",
    "    driver.find_element_by_css_selector('body > div.js-content > div > div > div > div.page-content-wrapper > div > div:nth-child(7) > div.product-review-footer > div > div > button.paginator-btn.paginator-btn-next').click()\n",
    "            \n",
    "    date = daterow\n"
   ]
  },
  {
   "cell_type": "code",
   "execution_count": 10,
   "id": "28aa2e4f",
   "metadata": {},
   "outputs": [],
   "source": [
    "output.reset_index(inplace=True)\n",
    "output.drop(['index'], axis=1, inplace=True)\n",
    "output.to_csv('output.csv')"
   ]
  },
  {
   "cell_type": "code",
   "execution_count": 11,
   "id": "b4c45aea",
   "metadata": {},
   "outputs": [],
   "source": [
    "driver.close()"
   ]
  }
 ],
 "metadata": {
  "kernelspec": {
   "display_name": "Python 3 (ipykernel)",
   "language": "python",
   "name": "python3"
  },
  "language_info": {
   "codemirror_mode": {
    "name": "ipython",
    "version": 3
   },
   "file_extension": ".py",
   "mimetype": "text/x-python",
   "name": "python",
   "nbconvert_exporter": "python",
   "pygments_lexer": "ipython3",
   "version": "3.9.6"
  }
 },
 "nbformat": 4,
 "nbformat_minor": 5
}
